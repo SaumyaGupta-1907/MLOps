{
 "cells": [
  {
   "cell_type": "code",
   "execution_count": null,
   "metadata": {},
   "outputs": [],
   "source": [
    "from sklearn.datasets import load_wine\n",
    "from sklearn.model_selection import train_test_split\n",
    "from sklearn.metrics import accuracy_score, f1_score\n",
    "from xgboost import XGBClassifier\n",
    "import mlflow, datetime, os, pickle, random, sys\n",
    "from joblib import dump\n",
    "\n",
    "# rcv1 = fetch_rcv1()"
   ]
  },
  {
   "cell_type": "code",
   "execution_count": null,
   "metadata": {},
   "outputs": [],
   "source": [
    "\n",
    "# pickle.dump(rcv1.data, open('../data/data.pickle', 'wb'))\n",
    "# pickle.dump(rcv1.target, open('../data/target.pickle', 'wb'))"
   ]
  },
  {
   "cell_type": "code",
   "execution_count": null,
   "metadata": {},
   "outputs": [],
   "source": [
    "# Check if the file exists within the folder\n",
    "if os.path.exists('../data/'):\n",
    "    X = pickle.load(open('../data/data.pickle', 'rb'))\n",
    "    y = pickle.load(open('../data/target.pickle', 'rb'))\n",
    "else:\n",
    "    os.makedirs('../data/', exist_ok=True)\n",
    "    data = load_wine()\n",
    "    X, y = data.data, data.target\n",
    "    with open('../data/data.pickle', 'wb') as data_file:\n",
    "        pickle.dump(X, data_file)\n",
    "    with open('../data/target.pickle', 'wb') as target_file:\n",
    "        pickle.dump(y, target_file)"
   ]
  },
  {
   "cell_type": "code",
   "execution_count": null,
   "metadata": {},
   "outputs": [],
   "source": [
    "mlflow.set_tracking_uri(\"./mlruns\")\n",
    "dataset_name = \"Wine Dataset Test\"\n",
    "current_time = datetime.datetime.now().strftime(\"%y%m%d_%H%M%S\")\n",
    "experiment_name = f\"{dataset_name}_{current_time}\"\n",
    "experiment_id = mlflow.create_experiment(f\"{experiment_name}\")\n",
    "\n",
    "with mlflow.start_run(experiment_id=experiment_id, run_name=f\"{dataset_name}\"):\n",
    "\n",
    "    params = {\n",
    "        \"dataset_name\": dataset_name,\n",
    "        \"number_of_datapoints\": X.shape[0],\n",
    "        \"number_of_dimensions\": X.shape[1]\n",
    "    }\n",
    "    mlflow.log_params(params)\n",
    "\n",
    "    train_X, test_X, train_y, test_y = train_test_split(\n",
    "        X, y, test_size=0.3, shuffle=True, random_state=42\n",
    "    )\n",
    "\n",
    "    model = XGBClassifier(\n",
    "        n_estimators=200,\n",
    "        learning_rate=0.05,\n",
    "        max_depth=5,\n",
    "        subsample=0.8,\n",
    "        colsample_bytree=0.8,\n",
    "        random_state=42,\n",
    "        use_label_encoder=False,\n",
    "        eval_metric='mlogloss'\n",
    "    )\n",
    "\n",
    "    model.fit(train_X, train_y)\n",
    "    y_predict = model.predict(test_X)\n",
    "\n",
    "    acc = accuracy_score(test_y, y_predict)\n",
    "    f1 = f1_score(test_y, y_predict, average=\"weighted\")\n",
    "\n",
    "    mlflow.log_metrics({\"Accuracy\": acc, \"F1 Score\": f1})\n",
    "\n",
    "    os.makedirs('../model/', exist_ok=True)\n",
    "    model_path = f'../model/{experiment_id}.joblib'\n",
    "    dump(model, model_path)"
   ]
  },
  {
   "cell_type": "code",
   "execution_count": null,
   "metadata": {},
   "outputs": [],
   "source": [
    "def test_data_shape():\n",
    "    data = load_wine()\n",
    "    assert data.data.shape[0] > 100\n",
    "    assert data.data.shape[1] == 13\n",
    "\n",
    "def test_train_test_split_ratio():\n",
    "    X, _, y, _ = train_test_split(load_wine().data, load_wine().target, test_size=0.3)\n",
    "    assert len(X) > 0.6 * len(load_wine().data)\n",
    "\n",
    "def test_xgb_training():\n",
    "    data = load_wine()\n",
    "    X_train, X_test, y_train, y_test = train_test_split(data.data, data.target, test_size=0.3)\n",
    "    model = XGBClassifier(use_label_encoder=False, eval_metric='mlogloss')\n",
    "    model.fit(X_train, y_train)\n",
    "    preds = model.predict(X_test)\n",
    "    assert len(preds) == len(y_test)\n",
    "\n",
    "def test_model_performance():\n",
    "    data = load_wine()\n",
    "    X_train, X_test, y_train, y_test = train_test_split(data.data, data.target, test_size=0.3)\n",
    "    model = XGBClassifier(use_label_encoder=False, eval_metric='mlogloss')\n",
    "    model.fit(X_train, y_train)\n",
    "    acc = accuracy_score(y_test, model.predict(X_test))\n",
    "    assert acc > 0.85  # Reasonable threshold for this dataset"
   ]
  }
 ],
 "metadata": {
  "kernelspec": {
   "display_name": "Lab1",
   "language": "python",
   "name": "python3"
  },
  "language_info": {
   "codemirror_mode": {
    "name": "ipython",
    "version": 3
   },
   "file_extension": ".py",
   "mimetype": "text/x-python",
   "name": "python",
   "nbconvert_exporter": "python",
   "pygments_lexer": "ipython3",
   "version": "3.9.7"
  },
  "orig_nbformat": 4
 },
 "nbformat": 4,
 "nbformat_minor": 2
}
